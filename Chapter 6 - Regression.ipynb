{
 "cells": [
  {
   "cell_type": "markdown",
   "metadata": {},
   "source": [
    "<h1>Simple Linear Regression </h1>"
   ]
  },
  {
   "cell_type": "code",
   "execution_count": 1,
   "metadata": {},
   "outputs": [
    {
     "data": {
      "text/html": [
       "<div>\n",
       "<style scoped>\n",
       "    .dataframe tbody tr th:only-of-type {\n",
       "        vertical-align: middle;\n",
       "    }\n",
       "\n",
       "    .dataframe tbody tr th {\n",
       "        vertical-align: top;\n",
       "    }\n",
       "\n",
       "    .dataframe thead th {\n",
       "        text-align: right;\n",
       "    }\n",
       "</style>\n",
       "<table border=\"1\" class=\"dataframe\">\n",
       "  <thead>\n",
       "    <tr style=\"text-align: right;\">\n",
       "      <th></th>\n",
       "      <th>total_bill</th>\n",
       "      <th>tip</th>\n",
       "      <th>size</th>\n",
       "    </tr>\n",
       "  </thead>\n",
       "  <tbody>\n",
       "    <tr>\n",
       "      <td>0</td>\n",
       "      <td>16.99</td>\n",
       "      <td>1.01</td>\n",
       "      <td>2</td>\n",
       "    </tr>\n",
       "    <tr>\n",
       "      <td>1</td>\n",
       "      <td>10.34</td>\n",
       "      <td>1.66</td>\n",
       "      <td>3</td>\n",
       "    </tr>\n",
       "    <tr>\n",
       "      <td>2</td>\n",
       "      <td>21.01</td>\n",
       "      <td>3.50</td>\n",
       "      <td>3</td>\n",
       "    </tr>\n",
       "    <tr>\n",
       "      <td>3</td>\n",
       "      <td>23.68</td>\n",
       "      <td>3.31</td>\n",
       "      <td>2</td>\n",
       "    </tr>\n",
       "    <tr>\n",
       "      <td>4</td>\n",
       "      <td>24.59</td>\n",
       "      <td>3.61</td>\n",
       "      <td>4</td>\n",
       "    </tr>\n",
       "  </tbody>\n",
       "</table>\n",
       "</div>"
      ],
      "text/plain": [
       "   total_bill   tip  size\n",
       "0       16.99  1.01     2\n",
       "1       10.34  1.66     3\n",
       "2       21.01  3.50     3\n",
       "3       23.68  3.31     2\n",
       "4       24.59  3.61     4"
      ]
     },
     "execution_count": 1,
     "metadata": {},
     "output_type": "execute_result"
    }
   ],
   "source": [
    "import numpy as np\n",
    "import pandas as pd\n",
    "import seaborn as sns\n",
    "\n",
    "\n",
    "rawdata = sns.load_dataset(\"tips\")\n",
    "rawdata = rawdata.drop(columns = ['sex', 'smoker','day','time'])\n",
    "rawdata.head()"
   ]
  },
  {
   "cell_type": "code",
   "execution_count": 2,
   "metadata": {},
   "outputs": [],
   "source": [
    "y = np.array(rawdata['tip'].values, order='F')   # 'F' forces a column major order and gives a column vector.\n",
    "                                                 # Else we will get a row vector and will have to reshape it.\n",
    "X = rawdata[['total_bill']].values"
   ]
  },
  {
   "cell_type": "code",
   "execution_count": 3,
   "metadata": {},
   "outputs": [],
   "source": [
    "# Implement Linear Regression\n",
    "from sklearn.linear_model import LinearRegression\n",
    "from sklearn.metrics import mean_squared_error, r2_score\n",
    "\n",
    "\n",
    "regression_model = LinearRegression()\n",
    "\n",
    "# Fit the data(train the model)\n",
    "regression_model.fit(X, y)\n",
    "y_predicted = regression_model.predict(X)"
   ]
  },
  {
   "cell_type": "code",
   "execution_count": 4,
   "metadata": {},
   "outputs": [
    {
     "name": "stdout",
     "output_type": "stream",
     "text": [
      "[0.10502452]\n",
      "0.9202696135546731\n"
     ]
    }
   ],
   "source": [
    "# Regression Coefficients\n",
    "print(regression_model.coef_)\n",
    "print(regression_model.intercept_)"
   ]
  },
  {
   "cell_type": "code",
   "execution_count": 5,
   "metadata": {},
   "outputs": [
    {
     "name": "stdout",
     "output_type": "stream",
     "text": [
      "0.45661658635167657 1.036019442011377\n"
     ]
    }
   ],
   "source": [
    "# Evaluating the model\n",
    "rmse = mean_squared_error(y, y_predicted)\n",
    "r2 = r2_score(y, y_predicted)\n",
    "print(r2, rmse)"
   ]
  },
  {
   "cell_type": "code",
   "execution_count": 6,
   "metadata": {},
   "outputs": [
    {
     "data": {
      "image/png": "[encoded data removed]",
      "text/plain": [
       "<Figure size 432x288 with 1 Axes>"
      ]
     },
     "metadata": {
      "needs_background": "light"
     },
     "output_type": "display_data"
    }
   ],
   "source": [
    "import matplotlib.pyplot as plt\n",
    "plt.scatter(X, y, color = \"red\")\n",
    "plt.plot(X, y_predicted, color = 'green' )\n",
    "plt.title(\"Total_Bill vs Tip\")\n",
    "plt.xlabel(\"Total Bill\")\n",
    "plt.ylabel(\"Tip\")\n",
    "plt.show()\n"
   ]
  },
  {
   "cell_type": "markdown",
   "metadata": {},
   "source": [
    "<h1>Multiple Linear Regression</h1>"
   ]
  },
  {
   "cell_type": "code",
   "execution_count": 7,
   "metadata": {},
   "outputs": [],
   "source": [
    "import numpy as np\n",
    "import pandas as pd\n",
    "import seaborn as sns\n",
    "\n",
    "\n",
    "rawdata = sns.load_dataset(\"tips\")\n",
    "rawdata = rawdata.drop(columns = ['sex', 'smoker','day','time'])\n",
    "\n",
    "y = np.array(rawdata['tip'].values, order='F')   # 'F' forces a column major order and gives a column vector.\n",
    "                                                 # Else we will get a row vector and will have to reshape it.)\n",
    "X = rawdata[['total_bill', 'size']].values"
   ]
  },
  {
   "cell_type": "code",
   "execution_count": 8,
   "metadata": {},
   "outputs": [
    {
     "name": "stdout",
     "output_type": "stream",
     "text": [
      "[0.09271334 0.19259779]\n",
      "0.6689447408125031\n"
     ]
    }
   ],
   "source": [
    "# Implement Linear Regression\n",
    "from sklearn.linear_model import LinearRegression\n",
    "from sklearn.metrics import mean_squared_error, r2_score\n",
    "\n",
    "\n",
    "regression_model = LinearRegression()\n",
    "\n",
    "# Fit the data(train the model)\n",
    "regression_model.fit(X, y)\n",
    "y_predicted = regression_model.predict(X)\n",
    "\n",
    "\n",
    "# Regression Coefficients\n",
    "print(regression_model.coef_)\n",
    "print(regression_model.intercept_)"
   ]
  },
  {
   "cell_type": "code",
   "execution_count": 9,
   "metadata": {},
   "outputs": [
    {
     "name": "stdout",
     "output_type": "stream",
     "text": [
      "0.46786930879612587 1.014564905610028\n"
     ]
    }
   ],
   "source": [
    "# Evaluating the model\n",
    "rmse = mean_squared_error(y, y_predicted)\n",
    "r2 = r2_score(y, y_predicted)\n",
    "print(r2, rmse)"
   ]
  },
  {
   "cell_type": "markdown",
   "metadata": {},
   "source": [
    "<h1>Decision Tree Regression</h1>"
   ]
  },
  {
   "cell_type": "code",
   "execution_count": 10,
   "metadata": {},
   "outputs": [
    {
     "name": "stdout",
     "output_type": "stream",
     "text": [
      "0.7137757335216025 0.5457176229508197\n"
     ]
    }
   ],
   "source": [
    "# Implement Decision Tree\n",
    "import numpy as np\n",
    "import pandas as pd\n",
    "import seaborn as sns\n",
    "\n",
    "\n",
    "rawdata = sns.load_dataset(\"tips\")\n",
    "rawdata = rawdata.drop(columns = ['sex', 'smoker','day','time'])\n",
    "\n",
    "y = np.array(rawdata['tip'].values, order='F')\n",
    "X = rawdata[['total_bill', 'size']].values\n",
    "\n",
    "\n",
    "# Implement Decision Regression\n",
    "from sklearn.ensemble import RandomForestRegressor\n",
    "from sklearn.metrics import mean_squared_error, r2_score\n",
    "\n",
    "\n",
    "regression_model = RandomForestRegressor(n_estimators = 1)\n",
    "\n",
    "# Fit the data(train the model)\n",
    "regression_model.fit(X, y)\n",
    "y_predicted = regression_model.predict(X)\n",
    "\n",
    "# Evaluating the model\n",
    "rmse = mean_squared_error(y, y_predicted)\n",
    "r2 = r2_score(y, y_predicted)\n",
    "print(r2, rmse)"
   ]
  },
  {
   "cell_type": "markdown",
   "metadata": {},
   "source": [
    "<h1>Support Vector Regression </h1>"
   ]
  },
  {
   "cell_type": "code",
   "execution_count": 11,
   "metadata": {},
   "outputs": [
    {
     "name": "stdout",
     "output_type": "stream",
     "text": [
      "0.525946005299321 0.9038353816793523\n"
     ]
    },
    {
     "name": "stderr",
     "output_type": "stream",
     "text": [
      "/home/ngopi/anaconda3/envs/VAnalPrimer/lib/python3.6/site-packages/sklearn/svm/base.py:193: FutureWarning: The default value of gamma will change from 'auto' to 'scale' in version 0.22 to account better for unscaled features. Set gamma explicitly to 'auto' or 'scale' to avoid this warning.\n",
      "  \"avoid this warning.\", FutureWarning)\n"
     ]
    }
   ],
   "source": [
    "# Implement Decision Tree\n",
    "import numpy as np\n",
    "import pandas as pd\n",
    "import seaborn as sns\n",
    "\n",
    "\n",
    "rawdata = sns.load_dataset(\"tips\")\n",
    "rawdata = rawdata.drop(columns = ['sex', 'smoker','day','time'])\n",
    "\n",
    "y = np.array(rawdata['tip'].values, order='F')\n",
    "X = rawdata[['total_bill', 'size']].values\n",
    "\n",
    "\n",
    "# Implement Support Vector Regression\n",
    "from sklearn import svm\n",
    "from sklearn.metrics import mean_squared_error, r2_score\n",
    "\n",
    "\n",
    "regression_model = svm.SVR()\n",
    "\n",
    "# Fit the data(train the model)\n",
    "regression_model.fit(X, y)\n",
    "y_predicted = regression_model.predict(X)\n",
    "\n",
    "# Evaluating the model\n",
    "rmse = mean_squared_error(y, y_predicted)\n",
    "r2 = r2_score(y, y_predicted)\n",
    "print(r2, rmse)"
   ]
  }
 ],
 "metadata": {
  "kernelspec": {
   "display_name": "Python 3",
   "language": "python",
   "name": "python3"
  },
  "language_info": {
   "codemirror_mode": {
    "name": "ipython",
    "version": 3
   },
   "file_extension": ".py",
   "mimetype": "text/x-python",
   "name": "python",
   "nbconvert_exporter": "python",
   "pygments_lexer": "ipython3",
   "version": "3.7.4"
  },
  "toc": {
   "base_numbering": 1,
   "nav_menu": {},
   "number_sections": true,
   "sideBar": true,
   "skip_h1_title": false,
   "title_cell": "Table of Contents",
   "title_sidebar": "Contents",
   "toc_cell": false,
   "toc_position": {},
   "toc_section_display": true,
   "toc_window_display": false
  }
 },
 "nbformat": 4,
 "nbformat_minor": 2
}
